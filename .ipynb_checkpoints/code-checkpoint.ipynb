{
 "cells": [
  {
   "cell_type": "code",
   "execution_count": null,
   "id": "67c31e22-e1b3-4892-af73-99f2c76ed1f4",
   "metadata": {},
   "outputs": [],
   "source": [
    "name = input(\"Write your name\")\n",
    "age = input(\"Type your age\")\n",
    "print(f\"Your name is {name} and you're {age} years old.\") "
   ]
  }
 ],
 "metadata": {
  "kernelspec": {
   "display_name": "Python 3 (ipykernel)",
   "language": "python",
   "name": "python3"
  },
  "language_info": {
   "codemirror_mode": {
    "name": "ipython",
    "version": 3
   },
   "file_extension": ".py",
   "mimetype": "text/x-python",
   "name": "python",
   "nbconvert_exporter": "python",
   "pygments_lexer": "ipython3",
   "version": "3.12.4"
  }
 },
 "nbformat": 4,
 "nbformat_minor": 5
}
