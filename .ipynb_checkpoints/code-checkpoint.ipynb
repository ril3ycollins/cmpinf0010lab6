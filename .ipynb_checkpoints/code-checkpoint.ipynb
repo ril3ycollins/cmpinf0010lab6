{
 "cells": [
  {
   "cell_type": "code",
   "execution_count": 4,
   "id": "67c31e22-e1b3-4892-af73-99f2c76ed1f4",
   "metadata": {},
   "outputs": [
    {
     "name": "stdin",
     "output_type": "stream",
     "text": [
      "Write your name chloe\n",
      "Type your age 18\n"
     ]
    },
    {
     "name": "stdout",
     "output_type": "stream",
     "text": [
      "Your name is chloe and you're 18 years old.\n"
     ]
    },
    {
     "name": "stdin",
     "output_type": "stream",
     "text": [
      "What grade are you in? 13\n"
     ]
    },
    {
     "name": "stdout",
     "output_type": "stream",
     "text": [
      "You're in 13th grade.\n"
     ]
    }
   ],
   "source": [
    "name = input(\"Write your name\")\n",
    "age = input(\"Type your age\")\n",
    "print(f\"Your name is {name} and you're {age} years old.\") \n",
    "grade = input(\"What grade are you in?\")\n",
    "print(f\"You're in {grade}th grade.\")\n",
    "# chloe was here\n",
    "# .\n"
   ]
  },
  {
   "cell_type": "code",
   "execution_count": null,
   "id": "5ef78a34-f04f-4c3d-90e1-0c8b0ee56451",
   "metadata": {},
   "outputs": [],
   "source": []
  }
 ],
 "metadata": {
  "kernelspec": {
   "display_name": "Python 3 (ipykernel)",
   "language": "python",
   "name": "python3"
  },
  "language_info": {
   "codemirror_mode": {
    "name": "ipython",
    "version": 3
   },
   "file_extension": ".py",
   "mimetype": "text/x-python",
   "name": "python",
   "nbconvert_exporter": "python",
   "pygments_lexer": "ipython3",
   "version": "3.12.4"
  }
 },
 "nbformat": 4,
 "nbformat_minor": 5
}
